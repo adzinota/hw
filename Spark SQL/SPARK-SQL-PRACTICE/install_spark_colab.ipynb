{
  "nbformat": 4,
  "nbformat_minor": 0,
  "metadata": {
    "colab": {
      "name": "Untitled0.ipynb",
      "provenance": []
    },
    "kernelspec": {
      "name": "python3",
      "display_name": "Python 3"
    },
    "language_info": {
      "name": "python"
    }
  },
  "cells": [
    {
      "cell_type": "code",
      "execution_count": 1,
      "metadata": {
        "id": "qYX1n8RrCc-F"
      },
      "outputs": [],
      "source": [
        "!apt-get install openjdk-8-jdk-headless -qq > /dev/null"
      ]
    },
    {
      "cell_type": "code",
      "source": [
        "!wget -q https://dlcdn.apache.org/spark/spark-3.2.1/spark-3.2.1-bin-hadoop3.2.tgz\n"
      ],
      "metadata": {
        "id": "4Fm3IrsLDBcB"
      },
      "execution_count": 22,
      "outputs": []
    },
    {
      "cell_type": "code",
      "source": [
        "!tar xvzf spark-3.2.1-bin-hadoop3.2.tgz"
      ],
      "metadata": {
        "id": "kAowd2J-DSyN"
      },
      "execution_count": null,
      "outputs": []
    },
    {
      "cell_type": "code",
      "source": [
        "import os\n",
        "os.environ[\"JAVA_HOME\"] = \"/usr/lib/jvm/java-8-openjdk-amd64\"\n",
        "os.environ[\"SPARK_HOME\"] = \"/content/spark-3.2.1-bin-hadoop3.2\""
      ],
      "metadata": {
        "id": "dfdhcirkGDcj"
      },
      "execution_count": 48,
      "outputs": []
    },
    {
      "cell_type": "code",
      "source": [
        "!pip install findspark"
      ],
      "metadata": {
        "colab": {
          "base_uri": "https://localhost:8080/"
        },
        "id": "G0-AdX-zFqSi",
        "outputId": "1598bba2-2b34-4b3a-c31c-f769ac13f12f"
      },
      "execution_count": 27,
      "outputs": [
        {
          "output_type": "stream",
          "name": "stdout",
          "text": [
            "Collecting findspark\n",
            "  Downloading findspark-2.0.0-py2.py3-none-any.whl (4.4 kB)\n",
            "Installing collected packages: findspark\n",
            "Successfully installed findspark-2.0.0\n"
          ]
        }
      ]
    },
    {
      "cell_type": "code",
      "source": [
        "!echo $SPARK_HOME"
      ],
      "metadata": {
        "colab": {
          "base_uri": "https://localhost:8080/"
        },
        "id": "HauZPaywJs98",
        "outputId": "57bfbab2-2673-4656-80e8-9b9e85402aea"
      },
      "execution_count": 51,
      "outputs": [
        {
          "output_type": "stream",
          "name": "stdout",
          "text": [
            "/content/spark-3.2.1-bin-hadoop3.2\n"
          ]
        }
      ]
    },
    {
      "cell_type": "code",
      "source": [
        "import findspark\n",
        "import os\n",
        "import pyspark\n",
        "from pyspark.sql import SparkSession\n",
        "from pyspark import SparkConf\n",
        "from pyspark import  SparkContext\n",
        "from pyspark.sql import functions as f\n",
        "appName = \"PySpark Task 1\"\n",
        "#master = \"spark://10.3.100.4:7077\"\n",
        "master = 'local[*]'\n",
        "# Create Spark session with Hive supported.\n",
        "spark = SparkSession.builder \\\n",
        "    .enableHiveSupport() \\\n",
        "    .appName(appName) \\\n",
        "    .getOrCreate()"
      ],
      "metadata": {
        "id": "SjDRZ0vTHbQT"
      },
      "execution_count": 50,
      "outputs": []
    },
    {
      "cell_type": "code",
      "source": [
        "df_emp = spark.read.json(\"/content/sample_data/anscombe.json\")\n",
        "df_emp.show(5,False)"
      ],
      "metadata": {
        "colab": {
          "base_uri": "https://localhost:8080/"
        },
        "id": "NpoFPaObPv-z",
        "outputId": "78609f72-c0f0-4819-ab7c-be1a42aa14b6"
      },
      "execution_count": 57,
      "outputs": [
        {
          "output_type": "stream",
          "name": "stdout",
          "text": [
            "+------+----+----+---------------+\n",
            "|Series|X   |Y   |_corrupt_record|\n",
            "+------+----+----+---------------+\n",
            "|null  |null|null|[              |\n",
            "|I     |10.0|8.04|null           |\n",
            "|I     |8.0 |6.95|null           |\n",
            "|I     |13.0|7.58|null           |\n",
            "|I     |9.0 |8.81|null           |\n",
            "+------+----+----+---------------+\n",
            "only showing top 5 rows\n",
            "\n"
          ]
        }
      ]
    },
    {
      "cell_type": "code",
      "source": [
        ""
      ],
      "metadata": {
        "id": "zkgVmsKGQGZS"
      },
      "execution_count": null,
      "outputs": []
    }
  ]
}